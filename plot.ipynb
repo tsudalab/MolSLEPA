{
 "cells": [
  {
   "cell_type": "code",
   "execution_count": 1,
   "id": "d8db3c1e",
   "metadata": {},
   "outputs": [
    {
     "name": "stderr",
     "output_type": "stream",
     "text": [
      "WARNING:root:No normalization for BCUT2D_MWHI\n",
      "WARNING:root:No normalization for BCUT2D_MWLOW\n",
      "WARNING:root:No normalization for BCUT2D_CHGHI\n",
      "WARNING:root:No normalization for BCUT2D_CHGLO\n",
      "WARNING:root:No normalization for BCUT2D_LOGPHI\n",
      "WARNING:root:No normalization for BCUT2D_LOGPLOW\n",
      "WARNING:root:No normalization for BCUT2D_MRHI\n",
      "WARNING:root:No normalization for BCUT2D_MRLOW\n"
     ]
    },
    {
     "ename": "ValueError",
     "evalue": "Failed to find any checkpoints with extension \".pt\" in directory \"../function/2.6m_checkpoints\"",
     "output_type": "error",
     "traceback": [
      "\u001b[0;31m---------------------------------------------------------------------------\u001b[0m",
      "\u001b[0;31mValueError\u001b[0m                                Traceback (most recent call last)",
      "\u001b[1;32m/Users/jiawenli/Desktop/molecular design/MolSLEPA/plot.ipynb Cell 1\u001b[0m in \u001b[0;36m<cell line: 23>\u001b[0;34m()\u001b[0m\n\u001b[1;32m     <a href='vscode-notebook-cell:/Users/jiawenli/Desktop/molecular%20design/MolSLEPA/plot.ipynb#X66sZmlsZQ%3D%3D?line=20'>21</a>\u001b[0m \u001b[39mfrom\u001b[39;00m \u001b[39mitertools\u001b[39;00m \u001b[39mimport\u001b[39;00m chain\n\u001b[1;32m     <a href='vscode-notebook-cell:/Users/jiawenli/Desktop/molecular%20design/MolSLEPA/plot.ipynb#X66sZmlsZQ%3D%3D?line=21'>22</a>\u001b[0m \u001b[39mfrom\u001b[39;00m \u001b[39mrdkit\u001b[39;00m\u001b[39m.\u001b[39;00m\u001b[39mSimDivFilters\u001b[39;00m\u001b[39m.\u001b[39;00m\u001b[39mrdSimDivPickers\u001b[39;00m \u001b[39mimport\u001b[39;00m MaxMinPicker\n\u001b[0;32m---> <a href='vscode-notebook-cell:/Users/jiawenli/Desktop/molecular%20design/MolSLEPA/plot.ipynb#X66sZmlsZQ%3D%3D?line=22'>23</a>\u001b[0m \u001b[39mfrom\u001b[39;00m \u001b[39mcli\u001b[39;00m\u001b[39m.\u001b[39;00m\u001b[39mmolslepa\u001b[39;00m \u001b[39mimport\u001b[39;00m MultiHistogram\n\u001b[1;32m     <a href='vscode-notebook-cell:/Users/jiawenli/Desktop/molecular%20design/MolSLEPA/plot.ipynb#X66sZmlsZQ%3D%3D?line=23'>24</a>\u001b[0m \u001b[39mfrom\u001b[39;00m \u001b[39msklearn\u001b[39;00m\u001b[39m.\u001b[39;00m\u001b[39mcluster\u001b[39;00m \u001b[39mimport\u001b[39;00m KMeans\n\u001b[1;32m     <a href='vscode-notebook-cell:/Users/jiawenli/Desktop/molecular%20design/MolSLEPA/plot.ipynb#X66sZmlsZQ%3D%3D?line=24'>25</a>\u001b[0m \u001b[39mimport\u001b[39;00m \u001b[39mplotly\u001b[39;00m\u001b[39m.\u001b[39;00m\u001b[39mgraph_objects\u001b[39;00m \u001b[39mas\u001b[39;00m \u001b[39mgo\u001b[39;00m\n",
      "File \u001b[0;32m~/Desktop/molecular design/MolSLEPA/cli/molslepa.py:263\u001b[0m, in \u001b[0;36m<module>\u001b[0;34m\u001b[0m\n\u001b[1;32m    260\u001b[0m     slepa \u001b[39m=\u001b[39m SLEPA(multisets, function, opt)\n\u001b[1;32m    261\u001b[0m     slepa\u001b[39m.\u001b[39mself_learning_population_annealing()\n\u001b[0;32m--> 263\u001b[0m main()\n",
      "File \u001b[0;32m~/Desktop/molecular design/MolSLEPA/cli/molslepa.py:259\u001b[0m, in \u001b[0;36mmain\u001b[0;34m()\u001b[0m\n\u001b[1;32m    250\u001b[0m multisets \u001b[39m=\u001b[39m [\n\u001b[1;32m    251\u001b[0m         \u001b[39m'\u001b[39m\u001b[39mC1=CC=CC=C1\u001b[39m\u001b[39m'\u001b[39m, \u001b[39m'\u001b[39m\u001b[39mNC=O\u001b[39m\u001b[39m'\u001b[39m, \u001b[39m'\u001b[39m\u001b[39mC1=CSC=N1\u001b[39m\u001b[39m'\u001b[39m, \u001b[39m'\u001b[39m\u001b[39mC1=COC=C1\u001b[39m\u001b[39m'\u001b[39m, \u001b[39m'\u001b[39m\u001b[39mC1=CN=CN=C1\u001b[39m\u001b[39m'\u001b[39m, \n\u001b[1;32m    252\u001b[0m         \u001b[39m'\u001b[39m\u001b[39mC1CCCCCC1\u001b[39m\u001b[39m'\u001b[39m, \u001b[39m'\u001b[39m\u001b[39mC1CNC1\u001b[39m\u001b[39m'\u001b[39m, \u001b[39m'\u001b[39m\u001b[39mCC(C)C\u001b[39m\u001b[39m'\u001b[39m, \u001b[39m'\u001b[39m\u001b[39mC1=NC=NO1\u001b[39m\u001b[39m'\u001b[39m, \u001b[39m'\u001b[39m\u001b[39mC1=CNN=N1\u001b[39m\u001b[39m'\u001b[39m, \n\u001b[0;32m   (...)\u001b[0m\n\u001b[1;32m    256\u001b[0m         \u001b[39m'\u001b[39m\u001b[39mC1=CN=C2C=CC=CC2=C1\u001b[39m\u001b[39m'\u001b[39m, \u001b[39m'\u001b[39m\u001b[39mC=CC(N)=O\u001b[39m\u001b[39m'\u001b[39m, \u001b[39m'\u001b[39m\u001b[39mCC#N\u001b[39m\u001b[39m'\u001b[39m, \u001b[39m'\u001b[39m\u001b[39mC1C2CC3CC1CC(C2)C3\u001b[39m\u001b[39m'\u001b[39m, \u001b[39m'\u001b[39m\u001b[39mN[SH](=O)=O\u001b[39m\u001b[39m'\u001b[39m\n\u001b[1;32m    257\u001b[0m         ]\n\u001b[1;32m    258\u001b[0m opt \u001b[39m=\u001b[39m \u001b[39m'\u001b[39m\u001b[39mmax\u001b[39m\u001b[39m'\u001b[39m \u001b[39m# or 'min'\u001b[39;00m\n\u001b[0;32m--> 259\u001b[0m function \u001b[39m=\u001b[39m GapPrediction(opt)\n\u001b[1;32m    260\u001b[0m slepa \u001b[39m=\u001b[39m SLEPA(multisets, function, opt)\n\u001b[1;32m    261\u001b[0m slepa\u001b[39m.\u001b[39mself_learning_population_annealing()\n",
      "File \u001b[0;32m~/Desktop/molecular design/MolSLEPA/function/gap_prediction.py:11\u001b[0m, in \u001b[0;36mGapPrediction.__init__\u001b[0;34m(self, opt)\u001b[0m\n\u001b[1;32m      6\u001b[0m \u001b[39mdef\u001b[39;00m \u001b[39m__init__\u001b[39m(\u001b[39mself\u001b[39m, opt):\n\u001b[1;32m      7\u001b[0m     arguments \u001b[39m=\u001b[39m [\n\u001b[1;32m      8\u001b[0m     \u001b[39m'\u001b[39m\u001b[39m--test_path\u001b[39m\u001b[39m'\u001b[39m, \u001b[39m'\u001b[39m\u001b[39m/dev/null\u001b[39m\u001b[39m'\u001b[39m,\n\u001b[1;32m      9\u001b[0m     \u001b[39m'\u001b[39m\u001b[39m--preds_path\u001b[39m\u001b[39m'\u001b[39m, \u001b[39m'\u001b[39m\u001b[39m/dev/null\u001b[39m\u001b[39m'\u001b[39m,\n\u001b[1;32m     10\u001b[0m     \u001b[39m'\u001b[39m\u001b[39m--checkpoint_dir\u001b[39m\u001b[39m'\u001b[39m, \u001b[39m'\u001b[39m\u001b[39m../function/2.6m_checkpoints\u001b[39m\u001b[39m'\u001b[39m]\n\u001b[0;32m---> 11\u001b[0m     \u001b[39mself\u001b[39m\u001b[39m.\u001b[39margs \u001b[39m=\u001b[39m chemprop\u001b[39m.\u001b[39;49margs\u001b[39m.\u001b[39;49mPredictArgs()\u001b[39m.\u001b[39;49mparse_args(arguments)\n\u001b[1;32m     12\u001b[0m     \u001b[39mself\u001b[39m\u001b[39m.\u001b[39mmodel_objects \u001b[39m=\u001b[39m chemprop\u001b[39m.\u001b[39mtrain\u001b[39m.\u001b[39mload_model(args\u001b[39m=\u001b[39m\u001b[39mself\u001b[39m\u001b[39m.\u001b[39margs)\n\u001b[1;32m     13\u001b[0m     \u001b[39mself\u001b[39m\u001b[39m.\u001b[39mopt \u001b[39m=\u001b[39m opt\n",
      "File \u001b[0;32m~/miniconda3/envs/py3.8/lib/python3.8/site-packages/tap/tap.py:436\u001b[0m, in \u001b[0;36mTap.parse_args\u001b[0;34m(self, args, known_only)\u001b[0m\n\u001b[1;32m    433\u001b[0m     \u001b[39msetattr\u001b[39m(\u001b[39mself\u001b[39m, variable, deepcopy(value))\n\u001b[1;32m    435\u001b[0m \u001b[39m# Process args\u001b[39;00m\n\u001b[0;32m--> 436\u001b[0m \u001b[39mself\u001b[39;49m\u001b[39m.\u001b[39;49mprocess_args()\n\u001b[1;32m    438\u001b[0m \u001b[39m# Indicate that args have been parsed\u001b[39;00m\n\u001b[1;32m    439\u001b[0m \u001b[39mself\u001b[39m\u001b[39m.\u001b[39m_parsed \u001b[39m=\u001b[39m \u001b[39mTrue\u001b[39;00m\n",
      "File \u001b[0;32m~/miniconda3/envs/py3.8/lib/python3.8/site-packages/chemprop/args.py:630\u001b[0m, in \u001b[0;36mPredictArgs.process_args\u001b[0;34m(self)\u001b[0m\n\u001b[1;32m    629\u001b[0m \u001b[39mdef\u001b[39;00m \u001b[39mprocess_args\u001b[39m(\u001b[39mself\u001b[39m) \u001b[39m-\u001b[39m\u001b[39m>\u001b[39m \u001b[39mNone\u001b[39;00m:\n\u001b[0;32m--> 630\u001b[0m     \u001b[39msuper\u001b[39;49m(PredictArgs, \u001b[39mself\u001b[39;49m)\u001b[39m.\u001b[39;49mprocess_args()\n\u001b[1;32m    632\u001b[0m     \u001b[39mself\u001b[39m\u001b[39m.\u001b[39msmiles_columns \u001b[39m=\u001b[39m chemprop\u001b[39m.\u001b[39mdata\u001b[39m.\u001b[39mutils\u001b[39m.\u001b[39mpreprocess_smiles_columns(\n\u001b[1;32m    633\u001b[0m         path\u001b[39m=\u001b[39m\u001b[39mself\u001b[39m\u001b[39m.\u001b[39mtest_path,\n\u001b[1;32m    634\u001b[0m         smiles_columns\u001b[39m=\u001b[39m\u001b[39mself\u001b[39m\u001b[39m.\u001b[39msmiles_columns,\n\u001b[1;32m    635\u001b[0m         number_of_molecules\u001b[39m=\u001b[39m\u001b[39mself\u001b[39m\u001b[39m.\u001b[39mnumber_of_molecules,\n\u001b[1;32m    636\u001b[0m     )\n\u001b[1;32m    638\u001b[0m     \u001b[39mif\u001b[39;00m \u001b[39mself\u001b[39m\u001b[39m.\u001b[39mcheckpoint_paths \u001b[39mis\u001b[39;00m \u001b[39mNone\u001b[39;00m \u001b[39mor\u001b[39;00m \u001b[39mlen\u001b[39m(\u001b[39mself\u001b[39m\u001b[39m.\u001b[39mcheckpoint_paths) \u001b[39m==\u001b[39m \u001b[39m0\u001b[39m:\n",
      "File \u001b[0;32m~/miniconda3/envs/py3.8/lib/python3.8/site-packages/chemprop/args.py:185\u001b[0m, in \u001b[0;36mCommonArgs.process_args\u001b[0;34m(self)\u001b[0m\n\u001b[1;32m    183\u001b[0m \u001b[39mdef\u001b[39;00m \u001b[39mprocess_args\u001b[39m(\u001b[39mself\u001b[39m) \u001b[39m-\u001b[39m\u001b[39m>\u001b[39m \u001b[39mNone\u001b[39;00m:\n\u001b[1;32m    184\u001b[0m     \u001b[39m# Load checkpoint paths\u001b[39;00m\n\u001b[0;32m--> 185\u001b[0m     \u001b[39mself\u001b[39m\u001b[39m.\u001b[39mcheckpoint_paths \u001b[39m=\u001b[39m get_checkpoint_paths(\n\u001b[1;32m    186\u001b[0m         checkpoint_path\u001b[39m=\u001b[39;49m\u001b[39mself\u001b[39;49m\u001b[39m.\u001b[39;49mcheckpoint_path,\n\u001b[1;32m    187\u001b[0m         checkpoint_paths\u001b[39m=\u001b[39;49m\u001b[39mself\u001b[39;49m\u001b[39m.\u001b[39;49mcheckpoint_paths,\n\u001b[1;32m    188\u001b[0m         checkpoint_dir\u001b[39m=\u001b[39;49m\u001b[39mself\u001b[39;49m\u001b[39m.\u001b[39;49mcheckpoint_dir,\n\u001b[1;32m    189\u001b[0m     )\n\u001b[1;32m    191\u001b[0m     \u001b[39m# Validate features\u001b[39;00m\n\u001b[1;32m    192\u001b[0m     \u001b[39mif\u001b[39;00m \u001b[39mself\u001b[39m\u001b[39m.\u001b[39mfeatures_generator \u001b[39mis\u001b[39;00m \u001b[39mnot\u001b[39;00m \u001b[39mNone\u001b[39;00m \u001b[39mand\u001b[39;00m \u001b[39m'\u001b[39m\u001b[39mrdkit_2d_normalized\u001b[39m\u001b[39m'\u001b[39m \u001b[39min\u001b[39;00m \u001b[39mself\u001b[39m\u001b[39m.\u001b[39mfeatures_generator \u001b[39mand\u001b[39;00m \u001b[39mself\u001b[39m\u001b[39m.\u001b[39mfeatures_scaling:\n",
      "File \u001b[0;32m~/miniconda3/envs/py3.8/lib/python3.8/site-packages/chemprop/args.py:55\u001b[0m, in \u001b[0;36mget_checkpoint_paths\u001b[0;34m(checkpoint_path, checkpoint_paths, checkpoint_dir, ext)\u001b[0m\n\u001b[1;32m     52\u001b[0m                 checkpoint_paths\u001b[39m.\u001b[39mappend(os\u001b[39m.\u001b[39mpath\u001b[39m.\u001b[39mjoin(root, fname))\n\u001b[1;32m     54\u001b[0m     \u001b[39mif\u001b[39;00m \u001b[39mlen\u001b[39m(checkpoint_paths) \u001b[39m==\u001b[39m \u001b[39m0\u001b[39m:\n\u001b[0;32m---> 55\u001b[0m         \u001b[39mraise\u001b[39;00m \u001b[39mValueError\u001b[39;00m(\u001b[39mf\u001b[39m\u001b[39m'\u001b[39m\u001b[39mFailed to find any checkpoints with extension \u001b[39m\u001b[39m\"\u001b[39m\u001b[39m{\u001b[39;00mext\u001b[39m}\u001b[39;00m\u001b[39m\"\u001b[39m\u001b[39m in directory \u001b[39m\u001b[39m\"\u001b[39m\u001b[39m{\u001b[39;00mcheckpoint_dir\u001b[39m}\u001b[39;00m\u001b[39m\"\u001b[39m\u001b[39m'\u001b[39m)\n\u001b[1;32m     57\u001b[0m     \u001b[39mreturn\u001b[39;00m checkpoint_paths\n\u001b[1;32m     59\u001b[0m \u001b[39mreturn\u001b[39;00m \u001b[39mNone\u001b[39;00m\n",
      "\u001b[0;31mValueError\u001b[0m: Failed to find any checkpoints with extension \".pt\" in directory \"../function/2.6m_checkpoints\""
     ]
    }
   ],
   "source": [
    "from rdkit import Chem\n",
    "from rdkit.Chem import Draw\n",
    "from rdkit.Chem.Draw import IPythonConsole\n",
    "from rdkit.Chem.Draw import rdDepictor\n",
    "import numpy as np\n",
    "import copy\n",
    "from rdkit.Chem import Descriptors, rdMolDescriptors, Crippen\n",
    "from rdkit.Chem import ResonanceMolSupplier, ResonanceFlags\n",
    "import pandas as pd\n",
    "from collections import defaultdict\n",
    "from pandas.plotting import parallel_coordinates\n",
    "import matplotlib.pyplot as plt\n",
    "from rdkit.Chem import DataStructs\n",
    "from rdkit.Chem import AllChem\n",
    "from rdkit.Chem.Draw import rdMolDraw2D\n",
    "from cli.molslepa import MultiHistogram\n",
    "rdDepictor.SetPreferCoordGen(True)\n",
    "IPythonConsole.drawOptions.minFontSize=20\n",
    "\n",
    "vocabulary=[\n",
    "    'C1=CC=CC=C1', 'NC=O', 'C1=CSC=N1', 'C1=COC=C1', 'C1=CN=CN=C1', \n",
    "    'C1CCCCCC1', 'C1CNC1', 'CC(C)C', 'C1=NC=NO1', 'C1=CNN=N1', \n",
    "    'C1CCOCC1', 'C1CNCCN1', 'C1=NN=CS1', 'C1=CC2=NC=CN2C=C1','FCF', \n",
    "    'CNC(N)=O', 'C1=CCNCC1', 'C1=CSN=C1', 'C=CC=O', 'CCOC', \n",
    "    'OC(F)F', 'C1CC1', 'CCN(C)C', 'COC(C)=O', 'CCS', \n",
    "    'C1=CN=C2C=CC=CC2=C1', 'C=CC(N)=O', 'CC#N', 'C1C2CC3CC1CC(C2)C3', 'N[SH](=O)=O'\n",
    "    ]"
   ]
  },
  {
   "cell_type": "code",
   "execution_count": 16,
   "id": "51cd0dbd",
   "metadata": {},
   "outputs": [],
   "source": [
    "def read_true_npy(thres_id, func):\n",
    "    thresholds = [0.01, 0.05, 0.1, 0.5, 1, 2, 5]\n",
    "    gt = np.load('results/bruteforce_gap_vocab30_K4_'+func+'_'+str(thresholds[thres_id])+'.npy')\n",
    "    return gt"
   ]
  },
  {
   "cell_type": "code",
   "execution_count": 17,
   "id": "f50a9404",
   "metadata": {},
   "outputs": [],
   "source": [
    "def read_allenergy(num_particle, max_beta, func, seed):  \n",
    "    allenergy = np.load('results/molslepa_vocab30_K4/allenergy_gap_'+func+'_T'+str(max_beta)+'_s'+str(seed)+'_nump'+str(num_particle)+'_iter'+str(numiter)+'.npy')\n",
    "    allseq = np.load('results/molslepa_vocab30_K4/allseq_gap_'+func+'_T'+str(max_beta)+'_s'+str(seed)+'_nump'+str(num_particle)+'_iter'+str(numiter)+'.npy')\n",
    "    return allseq, allenergy"
   ]
  },
  {
   "cell_type": "code",
   "execution_count": 19,
   "id": "f05f7a97",
   "metadata": {},
   "outputs": [],
   "source": [
    "def epa_counter(gt, num_particle, max_beta, func, thresid, seed):   \n",
    "    allseq, allenergy = read_allenergy(num_particle, max_beta, func,seed)\n",
    "    betas = np.linspace(0, max_beta, len(allseq_all))\n",
    "    counter = mh.multi_histogram(betas, allseq, allenergy, len(vocabulary), thresholds[thres_id])\n",
    "    heldist = hellinger(counter, gt)\n",
    "    return counter, heldist"
   ]
  },
  {
   "cell_type": "code",
   "execution_count": 20,
   "id": "4ffd2289",
   "metadata": {},
   "outputs": [],
   "source": [
    "def es_counter(gt, num_particle, func, thres_id, seed):\n",
    "    allenergy = np.load('results/es_vocab30_K4/allenergy_gap_'+func+'_'+str(num_particle)+'_s'+str(seed)+'.npy')\n",
    "    allseq = np.load('results/es_vocab30_K4/allseq_gap_'+func+'_'+str(num_particle)+'_s'+str(seed)+'.npy')\n",
    "    vocab_size = len(vocabulary)\n",
    "    vocab_len = 4\n",
    "    thres = thresholds[thres_id]\n",
    "    counter = np.zeros(len(allseq[0][0]))\n",
    "    numiter = 20\n",
    "    for biter in range(numiter):\n",
    "        matches= [allseq[biter][i] for i,x in enumerate(allenergy[biter]) if x <= thres]\n",
    "        matchenergy = [allenergy[biter][i] for i,x in enumerate(allenergy[biter]) if x <= thres] \n",
    "        for i in range(len(matches)):\n",
    "            num_vocab = np.nonzero(matches[i])[0]\n",
    "            for j in num_vocab:  \n",
    "                for _ in range(int(matches[i][j])):  \n",
    "                    counter[j] += 1\n",
    "    counter /= np.sum(counter)\n",
    "    heldist = hellinger(counter, gt)\n",
    "    return counter, heldist"
   ]
  },
  {
   "cell_type": "code",
   "execution_count": 21,
   "id": "0df91ded",
   "metadata": {},
   "outputs": [],
   "source": [
    "def rs_counter(gt, thres_id, seed):\n",
    "    allenergy = np.load('results/random_vocab30_K4/allenergy_gap_'+str(num_particle*numiter)+'_s'+str(seed)+'.npy')\n",
    "    allseq = np.load('results/random_vocab30_K4/allseq_gap_'+str(num_particle*numiter)+'_s'+str(seed)+'.npy')\n",
    "    if func == 'max':\n",
    "        allenergy = -allenergy\n",
    "    thres = thresholds[thres_id]\n",
    "    counter = np.zeros(len(allseq[0]))\n",
    "    for i in range(len(allseq)):\n",
    "        if allenergy[i] < thres:\n",
    "            num_vocab = np.nonzero(allseq[i])[0]\n",
    "            for n in num_vocab:\n",
    "                for _ in range(int(allseq[i][n])):\n",
    "                    counter[n] += 1\n",
    "    counter = counter / np.sum(counter)\n",
    "    heldist = hellinger(counter, gt) \n",
    "    return counter, heldist"
   ]
  },
  {
   "cell_type": "code",
   "execution_count": 23,
   "id": "bbd882f6",
   "metadata": {},
   "outputs": [],
   "source": [
    "def hellinger(p, q):\n",
    "    return np.linalg.norm(np.sqrt(p)-np.sqrt(q))/np.sqrt(2)"
   ]
  },
  {
   "cell_type": "code",
   "execution_count": 24,
   "id": "1f5f254d",
   "metadata": {},
   "outputs": [],
   "source": [
    "def conjugated_group_number(ms):\n",
    "    suppl = ResonanceMolSupplier(ms, ResonanceFlags.KEKULE_ALL) \n",
    "    return [ResonanceMolSupplier.GetNumConjGrps(suppl), 1-ResonanceMolSupplier.GetNumConjGrps(suppl)]"
   ]
  },
  {
   "cell_type": "code",
   "execution_count": 25,
   "id": "e335b8fe",
   "metadata": {},
   "outputs": [],
   "source": [
    "def aromatic_atom_number(mh):\n",
    "    m = Chem.RemoveHs(mh)\n",
    "    num_bonds = m.GetNumBonds()\n",
    "    num_aromatic_bonds = 0\n",
    "    for bond in m.GetBonds():\n",
    "        if bond.GetIsAromatic():\n",
    "            num_aromatic_bonds += 1\n",
    "    ARR = num_aromatic_bonds/num_bonds\n",
    "    return ARR"
   ]
  },
  {
   "cell_type": "code",
   "execution_count": 26,
   "id": "99491eda",
   "metadata": {},
   "outputs": [],
   "source": [
    "def aromatic_ring_number(ms):\n",
    "    arom_ring_num = Descriptors.NumAromaticRings(ms)\n",
    "    ring_num = rdMolDescriptors.CalcNumRings(ms)\n",
    "    if arom_ring_num==ring_num and ring_num != 0:\n",
    "        return [1,0]\n",
    "    else:\n",
    "        return [0,1]"
   ]
  },
  {
   "cell_type": "code",
   "execution_count": 27,
   "id": "5d2953b4",
   "metadata": {},
   "outputs": [],
   "source": [
    "def sp_number(ms):\n",
    "    sp1_num = len(ms.GetSubstructMatches(Chem.MolFromSmarts('[^1]')))\n",
    "    sp2_num = len(ms.GetSubstructMatches(Chem.MolFromSmarts('[^2]')))\n",
    "    sp3_num = len(ms.GetSubstructMatches(Chem.MolFromSmarts('[^3]')))\n",
    "    return sp2_num, sp3_num"
   ]
  },
  {
   "cell_type": "code",
   "execution_count": 134,
   "id": "2f429308",
   "metadata": {},
   "outputs": [],
   "source": [
    "def plotly_parallel_coordinates(counter_epa, counter_es, counter_rs, gt):\n",
    "    data = defaultdict(list)\n",
    "    index = np.argsort(-gt)\n",
    "    gt = [gt[i] for i in index]\n",
    "    vocabulary_sort = [vocabulary[i] for i in index]\n",
    "    counter_epa = [counter_epa[i] for i in index]\n",
    "    counter_es = [counter_es[i] for i in index]\n",
    "    counter_rs = [counter_rs[i] for i in index]\n",
    "\n",
    "    for i in range(len(gt)):\n",
    "        data[vocabulary_sort[i]].append(gt[i])\n",
    "    data['method'].append('Brute Force')\n",
    "\n",
    "    for i in range(len(counter_epa)):\n",
    "        data[vocabulary_sort[i]].append(counter_epa[i])\n",
    "    data['method'].append('MolSLEPA')\n",
    "    \n",
    "    for i in range(len(counter_rs)):\n",
    "        data[vocabulary_sort[i]].append(counter_rs[i])\n",
    "    data['method'].append('Random')\n",
    "    \n",
    "    for i in range(len(counter_es)):\n",
    "        data[vocabulary_sort[i]].append(counter_es[i])\n",
    "    data['method'].append('ES')\n",
    "\n",
    "    df = pd.DataFrame(data)\n",
    "\n",
    "    fig,ax = plt.subplots(figsize=(12, 6))\n",
    "    parallel_coordinates(df,'method', ax=ax, color=(gt_color, epa_color, rs_color, es_color), axvlines=False, linewidth=3)\n",
    "    plt.scatter(x=range(len(vocabulary_sort)), y=gt, color=gt_color, alpha=0.8)\n",
    "    plt.scatter(x=range(len(vocabulary_sort)), y=counter_epa, color=epa_color, alpha=0.8)\n",
    "    plt.scatter(x=range(len(vocabulary_sort)), y=counter_rs, color=rs_color, alpha=0.8)\n",
    "    plt.scatter(x=range(len(vocabulary_sort)), y=counter_es, color=es_color, alpha=0.8)\n",
    "    plt.grid(linestyle = '--', alpha=0.5, linewidth = 0.5)\n",
    "    plt.text(19, 0.365, s=\"Maximization, threshold=1%\", size=17.5, family='Arial', weight='bold')\n",
    "    plt.legend(loc='upper right', bbox_to_anchor=(0.97, 0.87), prop={'family':'Arial', 'size': 13})\n",
    "\n",
    "    ax.set_ylabel('Saliency', fontsize=15,  fontfamily='Arial')\n",
    "    ax.set_xticklabels(labels=vocabulary_sort, fontsize=12, rotation=75, fontfamily='Arial')\n",
    "    ax.set_ylim(0, 0.4, 0.05)\n",
    "\n",
    "    plt.tight_layout()\n",
    "    plt.savefig('pc'+str(func)+'.pdf', bbox_inches='tight')\n",
    "    plt.show()"
   ]
  },
  {
   "cell_type": "code",
   "execution_count": 141,
   "id": "45361eaf",
   "metadata": {},
   "outputs": [],
   "source": [
    "thres_id = 4\n",
    "max_beta = 3\n",
    "seed = 3\n",
    "numiter = 20\n",
    "num_particle = 100\n",
    "func = 'max'\n",
    "gt_color = '#999999'\n",
    "es_color = '#82B0D2'\n",
    "epa_color = '#FA7F6F'\n",
    "rs_color = '#F5B971'\n",
    "betas = np.linspace(0, max_beta, numiter)\n",
    "mh = MultiHistogram()\n",
    "thresholds = [-11.052256908920361, -9.818027661692127, -9.563187576028112, -8.740377669536942, -8.32855880836117, -7.720552925235464, -7.058249581258306]\n",
    "# thresholds = [2.961448137576962, 3.1749314572896465, 3.2472055393168837, 3.4329222892415676, 3.533781962090044, 3.6524556344702566, 3.8395426085453024]"
   ]
  },
  {
   "cell_type": "code",
   "execution_count": null,
   "id": "b9b342eb",
   "metadata": {},
   "outputs": [],
   "source": [
    "gt = read_true_npy(thres_id, func)\n",
    "es_count, es_dist = es_counter(gt, num_particle, func, thres_id, 3)\n",
    "epa_count, epa_dist = epa_counter(gt, num_particle, max_beta, func, thres_id, seed)\n",
    "rs_count, rs_dist = rs_counter(gt, thres_id, 3)"
   ]
  },
  {
   "cell_type": "code",
   "execution_count": null,
   "id": "3ceac721",
   "metadata": {
    "scrolled": true
   },
   "outputs": [],
   "source": [
    "plotly_parallel_coordinates(epa_count, es_count, rs_count, gt)"
   ]
  },
  {
   "cell_type": "code",
   "execution_count": null,
   "id": "8b653fb3",
   "metadata": {},
   "outputs": [],
   "source": [
    "import matplotlib as mpl\n",
    "from matplotlib.font_manager import FontProperties\n",
    "import math\n",
    "seeds = 5\n",
    "rs_dist_mean = []\n",
    "es_dist_mean = []\n",
    "epa_dist_mean = []\n",
    "rs_dist_err = []\n",
    "es_dist_err = []\n",
    "epa_dist_err = []\n",
    "for thres_id in range(7):\n",
    "    rs_dist_list = []\n",
    "    es_dist_list = []\n",
    "    epa_dist_list = []\n",
    "    gt = read_true_npy(thres_id, func)\n",
    "    for s in range(seeds):\n",
    "        rs_count, rs_dist = rs_counter(gt, thres_id, s)\n",
    "        es_count, es_dist = es_counter(gt, num_particle, func, thres_id, s)\n",
    "        epa_count, epa_dist = epa_counter(gt, num_particle, max_beta, func, thres_id, s)\n",
    "        if np.isnan(rs_dist):\n",
    "            rs_dist = 1\n",
    "        rs_dist_list.append(rs_dist)\n",
    "        es_dist_list.append(es_dist)\n",
    "        epa_dist_list.append(epa_dist)\n",
    "    rs_dist_mean.append(np.mean(rs_dist_list))\n",
    "    es_dist_mean.append(np.mean(es_dist_list))\n",
    "    epa_dist_mean.append(np.mean(epa_dist_list))\n",
    "    rs_dist_err.append(np.std(np.array(rs_dist_list)))\n",
    "    es_dist_err.append(np.std(np.array(es_dist_list)))\n",
    "    epa_dist_err.append(np.std(np.array(epa_dist_list)))"
   ]
  },
  {
   "cell_type": "code",
   "execution_count": null,
   "id": "41b2d5f4",
   "metadata": {},
   "outputs": [],
   "source": [
    "fig = plt.figure(figsize=(5,6))\n",
    "x = np.arange(0,21,3)\n",
    "y = [epa_dist_mean, rs_dist_mean, es_dist_mean]\n",
    "tag = ['MolSLEPA', 'Random', 'ES']\n",
    "color = [epa_color, rs_color, es_color]\n",
    "std = [epa_dist_err, rs_dist_err, es_dist_err]\n",
    "tick_label=['0.01', '0.05', '0.1','0.5','1','2', '5']\n",
    "for i in range(3):\n",
    "    upper = np.array(y[i]) + np.array(std[i])\n",
    "    lower = np.array(y[i]) - np.array(std[i])\n",
    "    plt.fill_between(x, upper, lower, alpha=0.2, color=color[i])\n",
    "    plt.scatter(x,y[i], label=tag[i], color=color[i])\n",
    "    plt.plot(x,y[i], color=color[i], linewidth=2)\n",
    "\n",
    "plt.legend(loc='best', prop={'family':'Arial', 'size': 13})\n",
    "plt.ylabel('Hellinger distance', fontsize=15,  fontfamily='Arial')\n",
    "plt.xlabel('Threshold(%)', fontsize=15,  fontfamily='Arial')\n",
    "\n",
    "plt.ylim([0.0,1])\n",
    "plt.xticks(x,tick_label,fontsize=12)\n",
    "plt.savefig('Hellinger distance.pdf', bbox_inches='tight')"
   ]
  },
  {
   "cell_type": "code",
   "execution_count": 114,
   "id": "4f4eb28b",
   "metadata": {},
   "outputs": [],
   "source": [
    "func = 'min'\n",
    "max_beta = 5\n",
    "rs_best_property_all = []\n",
    "es_best_property_all = []\n",
    "epa_best_property_all = []\n",
    "for seed in range(5):\n",
    "    rs_best_property = []\n",
    "    es_best_property = []\n",
    "    epa_best_property = []\n",
    "    rs_allenergy = np.load('results/random_vocab30_K4/allenergy_gap_'+str(num_particle*numiter)+'_'+str(seed)+'.npy')\n",
    "    es_allenergy = np.load('results/es_vocab30_K4/allenergy_gap_'+func+'_'+str(num_particle)+'_'+str(seed)+'.npy').flatten()\n",
    "    epa_allenergy = np.load('results/molslepa_vocab30_K4/allenergy_gap_'+func+'_T'+str(max_beta)+'_s'+str(seed)+'_nump'+str(num_particle)+'_iter'+str(numiter)+'.npy').flatten()\n",
    "    for num in range(400, len(rs_allenergy)+1, 200):\n",
    "        if func == 'max':\n",
    "            rs_best_property.append(np.max(rs_allenergy[:num]))\n",
    "            es_best_property.append(np.max(es_allenergy[:num]))\n",
    "            epa_best_property.append(np.max(epa_allenergy[:num]))\n",
    "        elif func == 'min':\n",
    "            rs_best_property.append(np.min(rs_allenergy[:num]))\n",
    "            es_best_property.append(np.min(es_allenergy[:num]))\n",
    "            epa_best_property.append(np.min(epa_allenergy[:num]))\n",
    "    rs_best_property_all.append(rs_best_property)\n",
    "    es_best_property_all.append(es_best_property)\n",
    "    epa_best_property_all.append(epa_best_property)\n",
    "rs_best_property_all = np.array(rs_best_property_all)\n",
    "es_best_property_all = np.array(es_best_property_all)\n",
    "epa_best_property_all = np.array(epa_best_property_all)\n",
    "    "
   ]
  },
  {
   "cell_type": "code",
   "execution_count": null,
   "id": "437a15ce",
   "metadata": {},
   "outputs": [],
   "source": [
    "fig = plt.figure(figsize=(5,6))\n",
    "x = np.arange(400,2001,200)\n",
    "y = [epa_best_property_all.mean(axis=0), rs_best_property_all.mean(axis=0), es_best_property_all.mean(axis=0)]\n",
    "tag = ['MolSLEPA', 'Random', 'ES']\n",
    "color = [epa_color, rs_color, es_color]\n",
    "std = [epa_best_property_all.std(axis=0), rs_best_property_all.std(axis=0), es_best_property_all.std(axis=0)]\n",
    "for i in range(3):\n",
    "    upper = np.array(y[i]) + np.array(std[i])\n",
    "    lower = np.array(y[i]) - np.array(std[i])\n",
    "    plt.fill_between(x, upper, lower, alpha=0.2, color=color[i])\n",
    "    plt.scatter(x,y[i], label=tag[i], color=color[i])\n",
    "    plt.plot(x,y[i], color=color[i], linewidth=2)\n",
    "\n",
    "plt.ylabel('Best property (eV)', fontsize=15,  fontfamily='Arial')\n",
    "plt.xlabel('Number of samples', fontsize=15,  fontfamily='Arial')\n",
    "plt.ylim([2.5, 3.6])\n",
    "# plt.ylim([8.8, 13.1])\n",
    "plt.legend(loc='best', prop={'family':'Arial', 'size': 13})\n",
    "plt.savefig('Best_property.pdf', bbox_inches='tight')"
   ]
  }
 ],
 "metadata": {
  "kernelspec": {
   "display_name": "py3.8",
   "language": "python",
   "name": "py3.8"
  },
  "language_info": {
   "codemirror_mode": {
    "name": "ipython",
    "version": 3
   },
   "file_extension": ".py",
   "mimetype": "text/x-python",
   "name": "python",
   "nbconvert_exporter": "python",
   "pygments_lexer": "ipython3",
   "version": "3.8.12"
  }
 },
 "nbformat": 4,
 "nbformat_minor": 5
}
